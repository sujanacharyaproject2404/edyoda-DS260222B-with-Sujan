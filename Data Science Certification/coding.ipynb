{
 "cells": [
  {
   "cell_type": "code",
   "execution_count": 10,
   "id": "3a390f66",
   "metadata": {},
   "outputs": [],
   "source": [
    "input1=3\n",
    "input2= {\"medium\", \"easy\", \"yeasseya\"}\n",
    "\n",
    "def numofpairs(input1, input2):\n",
    "    count=0\n",
    "    y=[]\n",
    "    input2=list(input2)\n",
    "    for i in range(input1):\n",
    "        y.append(input2[i]+input2[i])\n",
    "        \n",
    "    for i in input2:\n",
    "        for j in y:\n",
    "            if sorted(i)==sorted(j):\n",
    "                count+=1\n",
    "    return count"
   ]
  },
  {
   "cell_type": "code",
   "execution_count": 11,
   "id": "59d1eb2b",
   "metadata": {},
   "outputs": [],
   "source": [
    "a=numofpairs(input1, input2)"
   ]
  },
  {
   "cell_type": "code",
   "execution_count": 12,
   "id": "a358a35f",
   "metadata": {},
   "outputs": [
    {
     "data": {
      "text/plain": [
       "1"
      ]
     },
     "execution_count": 12,
     "metadata": {},
     "output_type": "execute_result"
    }
   ],
   "source": [
    "a"
   ]
  },
  {
   "cell_type": "code",
   "execution_count": null,
   "id": "3d647dfd",
   "metadata": {},
   "outputs": [],
   "source": []
  },
  {
   "cell_type": "code",
   "execution_count": null,
   "id": "1aef6cef",
   "metadata": {},
   "outputs": [],
   "source": []
  },
  {
   "cell_type": "code",
   "execution_count": null,
   "id": "0f0bcc58",
   "metadata": {},
   "outputs": [],
   "source": []
  },
  {
   "cell_type": "code",
   "execution_count": null,
   "id": "0a962bd9",
   "metadata": {},
   "outputs": [],
   "source": []
  },
  {
   "cell_type": "code",
   "execution_count": null,
   "id": "d3c686c0",
   "metadata": {},
   "outputs": [],
   "source": []
  }
 ],
 "metadata": {
  "kernelspec": {
   "display_name": "Python 3 (ipykernel)",
   "language": "python",
   "name": "python3"
  },
  "language_info": {
   "codemirror_mode": {
    "name": "ipython",
    "version": 3
   },
   "file_extension": ".py",
   "mimetype": "text/x-python",
   "name": "python",
   "nbconvert_exporter": "python",
   "pygments_lexer": "ipython3",
   "version": "3.9.12"
  }
 },
 "nbformat": 4,
 "nbformat_minor": 5
}
