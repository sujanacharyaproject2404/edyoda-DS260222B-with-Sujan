{
 "cells": [
  {
   "cell_type": "markdown",
   "id": "032a33f7",
   "metadata": {},
   "source": [
    "Sub-Topics\n",
    "\n",
    "1. Ensemble Models"
   ]
  },
  {
   "cell_type": "code",
   "execution_count": null,
   "id": "5d032fd5",
   "metadata": {},
   "outputs": [],
   "source": [
    "Robust tecniques robust out lyers"
   ]
  }
 ],
 "metadata": {
  "kernelspec": {
   "display_name": "Python 3 (ipykernel)",
   "language": "python",
   "name": "python3"
  },
  "language_info": {
   "codemirror_mode": {
    "name": "ipython",
    "version": 3
   },
   "file_extension": ".py",
   "mimetype": "text/x-python",
   "name": "python",
   "nbconvert_exporter": "python",
   "pygments_lexer": "ipython3",
   "version": "3.9.12"
  }
 },
 "nbformat": 4,
 "nbformat_minor": 5
}
