{
 "cells": [
  {
   "cell_type": "markdown",
   "id": "1def57e6",
   "metadata": {},
   "source": [
    "Chemical Factory\n",
    "You are working in a chemical factory. Each chemical in the factory is represented by a string. You have to group the chemicals in such a way that no two explosive\n",
    "chemicals are together.\n",
    "You are given an array of size N, denoting the names of N chemicals. Let x and y be two strings representing two chemicals.\n",
    "Let z = x + x (For example, if x=”abc” then z=”abcabc”).\n",
    "The chemicals x and y are said to be explosive if we can jumble the characters of string z to get chemical y. \n",
    "Your task is to return the number of pairs of chemicals that are explosive.\n",
    "Input Specification:\n",
    "input1: An integer N denoting the size of the array.\n",
    "input2: An array of strings denoting the names of N chemicals.\n",
    "Output Specification:\n",
    "An integer denoting the number of pairs of chemicals that are explosive.\n",
    "Example 1:\n",
    "input1: 5\n",
    "input2: {\"hacker\", \"int\", \"niitnt\", \"hackhackerer\", \"long\"}.\n",
    "Output: 2\n",
    "Question 1 Compilation: Successful Time taken: 59m 20s Marks Scored: 0/40\n",
    "Q.\n",
    "1\n",
    "Section 1\n",
    "Coding\n",
    "3\n",
    "question(s)\n",
    "1h 33m 41s\n",
    "Time taken\n",
    "8/120\n",
    "Marks Scored\n",
    "| Sujan Page 7 / 595\n",
    "Explanation:\n",
    "There are two explosive pairs:\n",
    "1. Pair {\"int\", \"niitnt\"} where x=\"int\" and y=\"niitnt\" is explosive as z = \"intint\" can be rearranged to form y=\"niitnt\". \n",
    "2. Pair {\"hacker\", \"hackhackerer\"} where x=\"hacker\" and y=\"hackhackerer\" is explosive as z = \"hackerhacker\" can be rearrangedto form y=\"hackhackerer\".\n",
    "Therefore, the answer is 2.\n",
    "Example 2:\n",
    "input1: 3\n",
    "input2: {“medium”, “easy”, “yeasseya”}\n",
    "Output: 1\n",
    "Explanation:\n",
    "There is only one explosive pair:\n",
    "1. Pair {\"easy\", \"yeasseya\"} where x=\"easy\" and y=\"yeasseya\" is explosive as z = \"easyeasy\" can be rearranged to form y= \"yeasseya\". Therefore, the answer is"
   ]
  },
  {
   "cell_type": "code",
   "execution_count": 4,
   "id": "ed54051c",
   "metadata": {},
   "outputs": [],
   "source": [
    "input1 = 5\n",
    "input2 = {\"hacker\", \"int\", \"niitnt\", \"hackhackerer\", \"long\"}"
   ]
  },
  {
   "cell_type": "code",
   "execution_count": 5,
   "id": "3b55cf26",
   "metadata": {},
   "outputs": [],
   "source": [
    "\n",
    "def numberOfPairs(input1, input2):\n",
    "\n",
    "# Read only region end\n",
    "# Write code here\n",
    "\n",
    "    count=0\n",
    "    y=[]\n",
    "    input2 = list(input2)\n",
    "    for i in range(input1):\n",
    "        y.append(input2[i]+input2[i])\n",
    "    for i in input2:\n",
    "        for j in y:\n",
    "            if sorted(i)==sorted(j):\n",
    "                count+=1\n",
    "    return count\n",
    "            "
   ]
  },
  {
   "cell_type": "code",
   "execution_count": 6,
   "id": "51b90667",
   "metadata": {},
   "outputs": [
    {
     "data": {
      "text/plain": [
       "2"
      ]
     },
     "execution_count": 6,
     "metadata": {},
     "output_type": "execute_result"
    }
   ],
   "source": [
    "numberOfPairs(input1, input2)"
   ]
  },
  {
   "cell_type": "markdown",
   "id": "6661e361",
   "metadata": {},
   "source": [
    "## OR"
   ]
  },
  {
   "cell_type": "code",
   "execution_count": 52,
   "id": "1beb7825",
   "metadata": {},
   "outputs": [],
   "source": [
    "\n",
    "def numberOfPairs(input1, input2):\n",
    "    count=0\n",
    "    for i in input2:\n",
    "        for j in input2:\n",
    "            if len(j)==2*len(i):\n",
    "                pr=\"\"\n",
    "                for k in i:\n",
    "                    if j.count(k)==2*i.count(k):\n",
    "                        pr=pr+k\n",
    "                if pr==i:\n",
    "                    count=count+1\n",
    "    return (count)\n",
    "    pass"
   ]
  },
  {
   "cell_type": "code",
   "execution_count": 54,
   "id": "8b6dbcef",
   "metadata": {},
   "outputs": [
    {
     "data": {
      "text/plain": [
       "2"
      ]
     },
     "execution_count": 54,
     "metadata": {},
     "output_type": "execute_result"
    }
   ],
   "source": [
    "numberOfPairs(input1, input2)"
   ]
  },
  {
   "cell_type": "code",
   "execution_count": null,
   "id": "03a72918",
   "metadata": {},
   "outputs": [],
   "source": []
  },
  {
   "cell_type": "markdown",
   "id": "da3db567",
   "metadata": {},
   "source": [
    "Maximum Good Substrings\n",
    "You are given a string as input which is also a good string. A string is good if it has an equal number of ‘A’ ’B’ and ‘C’ characters. Given that the input string\n",
    "contains only 3 characters ‘A’ ‘B’, and ‘C’, you must split it into as many substrings such that all the resultant substrings are also good.\n",
    "For example, A good string S= “ABCABCABC”, thus , we can split the string S into a maximum of three possible good substrings - “ABC”, “ABC”, and\n",
    "“ABC”.\n",
    "Your task is to return the maximum number of good substrings possible for a string S.\n",
    "Input Specification:\n",
    "input1: A good string S\n",
    "Output Specification:\n",
    "An integer value denoting the maximum number of good substrings possible after splitting the input string.\n",
    "Example 1:\n",
    "input1: ABCABBACC\n",
    "Output: 2\n",
    "Explanation:\n",
    "We can split the input string ABCABBACC in two ways -\n",
    "1. We split the string “ABCABBACC” into two substrings i.e., “ABC” and “ABBACC”.In this we get two good substrings.\n",
    "2. The other possibility of obtaining a good substring is “ABCABBACC” i.e., the input string itself. In this case, we will get only one good substring.\n",
    "Since, a maximum of two good substrings are possible, therefore 2 will be returned as the output.\n",
    "Example 2:\n",
    "input1: ABBAABBACCCC\n",
    "Output: 1\n",
    "Explanation:\n",
    "The only possible good substring is ABBAABBACCCC i.e., the string itself. Therefore, 1 will be returned as the output."
   ]
  },
  {
   "cell_type": "code",
   "execution_count": 36,
   "id": "4d0286d2",
   "metadata": {},
   "outputs": [],
   "source": [
    "input1 = \"ABCABBACC\""
   ]
  },
  {
   "cell_type": "code",
   "execution_count": 37,
   "id": "62550f1a",
   "metadata": {},
   "outputs": [],
   "source": [
    "def MaxSubstrings(input1):\n",
    "\n",
    "# Read only region end\n",
    "# Write code here\n",
    "    gd_sub=0\n",
    "    for j in range(len(input1)):\n",
    "        d={}\n",
    "        for x in input1[j:]:\n",
    "            if (x in d):\n",
    "                d[x]+=1\n",
    "            elif (x not in d):\n",
    "                d[x]=1\n",
    "        print(d)\n",
    "        if(d.get(\"A\")==d.get(\"B\") and d.get(\"B\")==d.get(\"C\")):\n",
    "            gd_sub+=1\n",
    "    return gd_sub\n",
    "    pass"
   ]
  },
  {
   "cell_type": "code",
   "execution_count": 38,
   "id": "89fb2fd7",
   "metadata": {},
   "outputs": [
    {
     "name": "stdout",
     "output_type": "stream",
     "text": [
      "{'A': 3, 'B': 3, 'C': 3}\n",
      "{'B': 3, 'C': 3, 'A': 2}\n",
      "{'C': 3, 'A': 2, 'B': 2}\n",
      "{'A': 2, 'B': 2, 'C': 2}\n",
      "{'B': 2, 'A': 1, 'C': 2}\n",
      "{'B': 1, 'A': 1, 'C': 2}\n",
      "{'A': 1, 'C': 2}\n",
      "{'C': 2}\n",
      "{'C': 1}\n"
     ]
    },
    {
     "data": {
      "text/plain": [
       "2"
      ]
     },
     "execution_count": 38,
     "metadata": {},
     "output_type": "execute_result"
    }
   ],
   "source": [
    "MaxSubstrings(input1)"
   ]
  },
  {
   "cell_type": "code",
   "execution_count": null,
   "id": "42e100a0",
   "metadata": {},
   "outputs": [],
   "source": []
  },
  {
   "cell_type": "code",
   "execution_count": null,
   "id": "5003a870",
   "metadata": {},
   "outputs": [],
   "source": []
  },
  {
   "cell_type": "markdown",
   "id": "6db42b36",
   "metadata": {},
   "source": [
    "Jumble the strings!\n",
    "John came across a problem involving palindromes and while working on it he gets stuck at some point and asks for your help. He is working with string arrays and\n",
    "trying to perform some operations on them. \n",
    "He gives you an array of N strings, where each string consists of only lowercase English alphabets. Any two strings in the array can be concatenated to check if their\n",
    "characters can be rearranged to form a palindrome string. The task is to return the count of such string pairs in the array.\n",
    "For example - strings “abc” and “bac” can be concatenated to form “abcbac” whose characters can be rearranged to form “abccba” which is a palindrome.\n",
    "Input Specification:\n",
    "input1: an array of N strings\n",
    "input2: an integer N denoting the length of the array\n",
    "Output Specification:\n",
    "Return the number of such string pairs.\n",
    "Example 1:\n",
    "input1: {ac, bb, dd}\n",
    "input2: 3\n",
    "Output: 1 \n",
    "Explanation:\n",
    "The pair “bb” and “dd'' can be concatenated to form the strings “bddb” or “dbbd” which are palindromes. Therefore, this string pair(“bb” and “dd”) counts.\n",
    "No other string pairs except (“bb” and “dd”) can be combined to form a palindrome.\n",
    "Question 2 Compilation: Successful Time taken: 12m 47s Marks Scored: 8/40\n",
    "Q.\n",
    "2\n",
    "| Sujan Page 453 / 595\n",
    "So 1 will be returned as the output.\n",
    "Example 2:\n",
    "input1:{aab, abc, bbb, cc} \n",
    "input2: 4\n",
    "Output: 3 \n",
    "Explanation:\n",
    "Looking at the given string array :\n",
    "The pair “aab” and “cc” can be concatenated to form “acbca”, “cabac” \n",
    "The pair “bbb” and “cc” can be concatenated to form “cbbbc”\n",
    "The pair “aab” and “bbb” can be concatenated to form “babbab”\n",
    "There are 3 such pairs, so 3 will be returned as the output."
   ]
  },
  {
   "cell_type": "code",
   "execution_count": 50,
   "id": "56cea33d",
   "metadata": {},
   "outputs": [],
   "source": [
    "input1 = {\"aaab\",\"aa\",\"dd\",\"add\",\"acaa\",\"abac\"}\n",
    "\n",
    "imput2 = 6\n"
   ]
  },
  {
   "cell_type": "code",
   "execution_count": 48,
   "id": "1879cf3f",
   "metadata": {},
   "outputs": [],
   "source": [
    "def palindromePairs(input1, input2):\n",
    "    from itertools import combinations\n",
    "    def camformpal(st):\n",
    "        listt = []\n",
    "        for i in range (len(st)):\n",
    "            if st[i] in listt:\n",
    "                listt.remove(st[i])\n",
    "            else:\n",
    "                listt.append(st[i])\n",
    "        if len(st)%2==0 and len(listt)==0 or len(st)%2==1 and len(listt)==1:\n",
    "            return True\n",
    "        else:\n",
    "            return False\n",
    "    pairs=list(combinations(input1, 2))\n",
    "    count=0\n",
    "    for i in pairs:\n",
    "        if camformpal(i[0]+i[1])==True:\n",
    "            count=count+1\n",
    "    return count\n",
    "pass\n",
    "\n",
    "                "
   ]
  },
  {
   "cell_type": "code",
   "execution_count": 51,
   "id": "d0a51456",
   "metadata": {},
   "outputs": [
    {
     "data": {
      "text/plain": [
       "5"
      ]
     },
     "execution_count": 51,
     "metadata": {},
     "output_type": "execute_result"
    }
   ],
   "source": [
    "palindromePairs(input1, input2)"
   ]
  },
  {
   "cell_type": "code",
   "execution_count": null,
   "id": "41ed1050",
   "metadata": {},
   "outputs": [],
   "source": []
  },
  {
   "cell_type": "code",
   "execution_count": null,
   "id": "b0da95e4",
   "metadata": {},
   "outputs": [],
   "source": []
  },
  {
   "cell_type": "code",
   "execution_count": null,
   "id": "301cf258",
   "metadata": {},
   "outputs": [],
   "source": []
  },
  {
   "cell_type": "code",
   "execution_count": 10,
   "id": "eaeec485",
   "metadata": {},
   "outputs": [],
   "source": [
    "def palindromePairs(input1, input2):\n",
    "    pairs_count=0\n",
    "    for i in input2:\n",
    "        for j in input2:\n",
    "            if len(j)==2*len(i):\n",
    "                pr=\"\"\n",
    "                for k in i:\n",
    "                    if j.count(k)==2*i.count(k):\n",
    "                        pr=pr+k\n",
    "                if pr==i:\n",
    "                    pairs_count=pairs_count+1\n",
    "    return (pairs_count)\n",
    "    pass\n",
    "           "
   ]
  },
  {
   "cell_type": "code",
   "execution_count": 39,
   "id": "fe1e58f1",
   "metadata": {},
   "outputs": [],
   "source": [
    "class UserMainCode(object):\n",
    "    def MaxSubstrings(input1):\n",
    "        gd_sub=0\n",
    "        for j in range(len(input1)):\n",
    "            d={}\n",
    "            for x in input1[j:]:\n",
    "                if (x in d):\n",
    "                    d[x]+=1\n",
    "                elif (x not in d):\n",
    "                    d[x]=1\n",
    "            print(d)\n",
    "            if(d.get(\"A\")==d.get(\"B\")==d.get(\"C\")):\n",
    "                gd_sub+=1\n",
    "        return gd_sub\n",
    "        pass"
   ]
  },
  {
   "cell_type": "code",
   "execution_count": 45,
   "id": "7a7e2359",
   "metadata": {},
   "outputs": [],
   "source": [
    "input1 = \"ABCABCABCABCABCABCABBCABCABCABCABCABCABCCABCABCABCABCABCABCA\""
   ]
  },
  {
   "cell_type": "code",
   "execution_count": 46,
   "id": "8eeb7f92",
   "metadata": {},
   "outputs": [
    {
     "name": "stdout",
     "output_type": "stream",
     "text": [
      "{'A': 20, 'B': 20, 'C': 20}\n",
      "{'B': 20, 'C': 20, 'A': 19}\n",
      "{'C': 20, 'A': 19, 'B': 19}\n",
      "{'A': 19, 'B': 19, 'C': 19}\n",
      "{'B': 19, 'C': 19, 'A': 18}\n",
      "{'C': 19, 'A': 18, 'B': 18}\n",
      "{'A': 18, 'B': 18, 'C': 18}\n",
      "{'B': 18, 'C': 18, 'A': 17}\n",
      "{'C': 18, 'A': 17, 'B': 17}\n",
      "{'A': 17, 'B': 17, 'C': 17}\n",
      "{'B': 17, 'C': 17, 'A': 16}\n",
      "{'C': 17, 'A': 16, 'B': 16}\n",
      "{'A': 16, 'B': 16, 'C': 16}\n",
      "{'B': 16, 'C': 16, 'A': 15}\n",
      "{'C': 16, 'A': 15, 'B': 15}\n",
      "{'A': 15, 'B': 15, 'C': 15}\n",
      "{'B': 15, 'C': 15, 'A': 14}\n",
      "{'C': 15, 'A': 14, 'B': 14}\n",
      "{'A': 14, 'B': 14, 'C': 14}\n",
      "{'B': 14, 'C': 14, 'A': 13}\n",
      "{'B': 13, 'C': 14, 'A': 13}\n",
      "{'C': 14, 'A': 13, 'B': 12}\n",
      "{'A': 13, 'B': 12, 'C': 13}\n",
      "{'B': 12, 'C': 13, 'A': 12}\n",
      "{'C': 13, 'A': 12, 'B': 11}\n",
      "{'A': 12, 'B': 11, 'C': 12}\n",
      "{'B': 11, 'C': 12, 'A': 11}\n",
      "{'C': 12, 'A': 11, 'B': 10}\n",
      "{'A': 11, 'B': 10, 'C': 11}\n",
      "{'B': 10, 'C': 11, 'A': 10}\n",
      "{'C': 11, 'A': 10, 'B': 9}\n",
      "{'A': 10, 'B': 9, 'C': 10}\n",
      "{'B': 9, 'C': 10, 'A': 9}\n",
      "{'C': 10, 'A': 9, 'B': 8}\n",
      "{'A': 9, 'B': 8, 'C': 9}\n",
      "{'B': 8, 'C': 9, 'A': 8}\n",
      "{'C': 9, 'A': 8, 'B': 7}\n",
      "{'A': 8, 'B': 7, 'C': 8}\n",
      "{'B': 7, 'C': 8, 'A': 7}\n",
      "{'C': 8, 'A': 7, 'B': 6}\n",
      "{'C': 7, 'A': 7, 'B': 6}\n",
      "{'A': 7, 'B': 6, 'C': 6}\n",
      "{'B': 6, 'C': 6, 'A': 6}\n",
      "{'C': 6, 'A': 6, 'B': 5}\n",
      "{'A': 6, 'B': 5, 'C': 5}\n",
      "{'B': 5, 'C': 5, 'A': 5}\n",
      "{'C': 5, 'A': 5, 'B': 4}\n",
      "{'A': 5, 'B': 4, 'C': 4}\n",
      "{'B': 4, 'C': 4, 'A': 4}\n",
      "{'C': 4, 'A': 4, 'B': 3}\n",
      "{'A': 4, 'B': 3, 'C': 3}\n",
      "{'B': 3, 'C': 3, 'A': 3}\n",
      "{'C': 3, 'A': 3, 'B': 2}\n",
      "{'A': 3, 'B': 2, 'C': 2}\n",
      "{'B': 2, 'C': 2, 'A': 2}\n",
      "{'C': 2, 'A': 2, 'B': 1}\n",
      "{'A': 2, 'B': 1, 'C': 1}\n",
      "{'B': 1, 'C': 1, 'A': 1}\n",
      "{'C': 1, 'A': 1}\n",
      "{'A': 1}\n"
     ]
    },
    {
     "data": {
      "text/plain": [
       "13"
      ]
     },
     "execution_count": 46,
     "metadata": {},
     "output_type": "execute_result"
    }
   ],
   "source": [
    "MaxSubstrings(input1)"
   ]
  },
  {
   "cell_type": "code",
   "execution_count": 1,
   "id": "bdbc565e",
   "metadata": {},
   "outputs": [
    {
     "data": {
      "application/javascript": [
       "\n",
       "        if (window._pyforest_update_imports_cell) { window._pyforest_update_imports_cell('import numpy as np'); }\n",
       "    "
      ],
      "text/plain": [
       "<IPython.core.display.Javascript object>"
      ]
     },
     "metadata": {},
     "output_type": "display_data"
    },
    {
     "data": {
      "text/plain": [
       "array([[1, 2],\n",
       "       [5, 2],\n",
       "       [4, 2]])"
      ]
     },
     "execution_count": 1,
     "metadata": {},
     "output_type": "execute_result"
    }
   ],
   "source": [
    "MData = np.array([[1,2],[5,2],[4,2]])\n",
    "MData"
   ]
  },
  {
   "cell_type": "code",
   "execution_count": 2,
   "id": "19d6f42a",
   "metadata": {},
   "outputs": [
    {
     "data": {
      "application/javascript": [
       "\n",
       "        if (window._pyforest_update_imports_cell) { window._pyforest_update_imports_cell('import numpy as np'); }\n",
       "    "
      ],
      "text/plain": [
       "<IPython.core.display.Javascript object>"
      ]
     },
     "metadata": {},
     "output_type": "display_data"
    },
    {
     "data": {
      "text/plain": [
       "array([[3, 1],\n",
       "       [4, 1]])"
      ]
     },
     "execution_count": 2,
     "metadata": {},
     "output_type": "execute_result"
    }
   ],
   "source": [
    "NData = np.array([[3,1],[4,1]])\n",
    "NData "
   ]
  },
  {
   "cell_type": "code",
   "execution_count": 3,
   "id": "03d63903",
   "metadata": {},
   "outputs": [
    {
     "ename": "ValueError",
     "evalue": "operands could not be broadcast together with shapes (3,2) (2,2) ",
     "output_type": "error",
     "traceback": [
      "\u001b[1;31m---------------------------------------------------------------------------\u001b[0m",
      "\u001b[1;31mValueError\u001b[0m                                Traceback (most recent call last)",
      "Input \u001b[1;32mIn [3]\u001b[0m, in \u001b[0;36m<cell line: 1>\u001b[1;34m()\u001b[0m\n\u001b[1;32m----> 1\u001b[0m Result \u001b[38;5;241m=\u001b[39m \u001b[43mMData\u001b[49m\u001b[43m \u001b[49m\u001b[38;5;241;43m-\u001b[39;49m\u001b[43m \u001b[49m\u001b[43mNData\u001b[49m \n\u001b[0;32m      2\u001b[0m Result\n",
      "\u001b[1;31mValueError\u001b[0m: operands could not be broadcast together with shapes (3,2) (2,2) "
     ]
    }
   ],
   "source": [
    "Result = MData - NData \n",
    "Result"
   ]
  },
  {
   "cell_type": "code",
   "execution_count": null,
   "id": "fc7f432d",
   "metadata": {},
   "outputs": [],
   "source": []
  }
 ],
 "metadata": {
  "kernelspec": {
   "display_name": "Python 3 (ipykernel)",
   "language": "python",
   "name": "python3"
  },
  "language_info": {
   "codemirror_mode": {
    "name": "ipython",
    "version": 3
   },
   "file_extension": ".py",
   "mimetype": "text/x-python",
   "name": "python",
   "nbconvert_exporter": "python",
   "pygments_lexer": "ipython3",
   "version": "3.9.12"
  }
 },
 "nbformat": 4,
 "nbformat_minor": 5
}
