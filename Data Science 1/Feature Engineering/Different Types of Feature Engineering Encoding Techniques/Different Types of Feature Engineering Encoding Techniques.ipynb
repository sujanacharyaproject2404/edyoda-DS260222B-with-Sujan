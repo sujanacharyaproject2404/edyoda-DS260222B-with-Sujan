{
 "cells": [
  {
   "cell_type": "markdown",
   "id": "61364910",
   "metadata": {},
   "source": [
    "https://www.youtube.com/watch?v=OTPz5plKb40&list=PLZoTAELRMXVPwYGE2PXD3x0bfKnR0cJjN&index=2"
   ]
  },
  {
   "cell_type": "code",
   "execution_count": null,
   "id": "d128821f",
   "metadata": {},
   "outputs": [],
   "source": [
    "Nominal Encoding : where i have not worry to re arrange categories \n",
    "              Ex : Gender - Male, Female\n",
    "\n",
    "Ordinal Encoding : We have to worry about Rank\n",
    "              Ex : Phd, Bcom, BCA"
   ]
  },
  {
   "cell_type": "code",
   "execution_count": null,
   "id": "6c509d8e",
   "metadata": {},
   "outputs": [],
   "source": []
  },
  {
   "cell_type": "code",
   "execution_count": null,
   "id": "7f9fd686",
   "metadata": {},
   "outputs": [],
   "source": []
  },
  {
   "cell_type": "code",
   "execution_count": null,
   "id": "30eccfb2",
   "metadata": {},
   "outputs": [],
   "source": []
  }
 ],
 "metadata": {
  "kernelspec": {
   "display_name": "Python 3 (ipykernel)",
   "language": "python",
   "name": "python3"
  },
  "language_info": {
   "codemirror_mode": {
    "name": "ipython",
    "version": 3
   },
   "file_extension": ".py",
   "mimetype": "text/x-python",
   "name": "python",
   "nbconvert_exporter": "python",
   "pygments_lexer": "ipython3",
   "version": "3.9.12"
  }
 },
 "nbformat": 4,
 "nbformat_minor": 5
}
