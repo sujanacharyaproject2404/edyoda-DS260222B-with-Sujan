{
 "cells": [
  {
   "cell_type": "markdown",
   "id": "8783e16d",
   "metadata": {},
   "source": [
    "Sub-Topics\n",
    "\n",
    "1. Basic Operations: Traversing, Searching\n",
    "2. Application\n",
    "\n",
    "Session Details\n",
    "\n",
    "1. Implementation.\n",
    "\n",
    "2. Basic Operations: Traversing, Searching\n",
    "\n",
    "3. Application"
   ]
  },
  {
   "cell_type": "markdown",
   "id": "a658bcf3",
   "metadata": {},
   "source": [
    "### Depth First Search"
   ]
  },
  {
   "cell_type": "markdown",
   "id": "c4d9ca93",
   "metadata": {},
   "source": [
    "1. Free Order\n",
    "2. In Order\n",
    "3. Post Order"
   ]
  },
  {
   "cell_type": "code",
   "execution_count": null,
   "id": "0e5ef8b6",
   "metadata": {},
   "outputs": [],
   "source": []
  }
 ],
 "metadata": {
  "kernelspec": {
   "display_name": "Python 3 (ipykernel)",
   "language": "python",
   "name": "python3"
  },
  "language_info": {
   "codemirror_mode": {
    "name": "ipython",
    "version": 3
   },
   "file_extension": ".py",
   "mimetype": "text/x-python",
   "name": "python",
   "nbconvert_exporter": "python",
   "pygments_lexer": "ipython3",
   "version": "3.9.12"
  }
 },
 "nbformat": 4,
 "nbformat_minor": 5
}
