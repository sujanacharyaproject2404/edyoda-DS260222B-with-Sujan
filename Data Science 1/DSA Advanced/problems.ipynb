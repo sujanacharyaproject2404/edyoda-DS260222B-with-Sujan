{
 "cells": [
  {
   "cell_type": "code",
   "execution_count": 1,
   "id": "ab2b1def",
   "metadata": {},
   "outputs": [],
   "source": [
    "class car:\n",
    "    def __init__(self, door, wheels, engine_type):\n",
    "        self.door = door\n",
    "        self.wheels = wheels\n",
    "        self.engine_type = engine_type\n",
    "        \n",
    "    def driving(self):\n",
    "        return 'this is', self.engine_type,'car'"
   ]
  },
  {
   "cell_type": "code",
   "execution_count": 2,
   "id": "1bd70224",
   "metadata": {},
   "outputs": [],
   "source": [
    "car1=car(4, 'magwheel','petrol')"
   ]
  },
  {
   "cell_type": "code",
   "execution_count": 4,
   "id": "724273d3",
   "metadata": {},
   "outputs": [
    {
     "data": {
      "text/plain": [
       "<__main__.car at 0x237e1684700>"
      ]
     },
     "execution_count": 4,
     "metadata": {},
     "output_type": "execute_result"
    }
   ],
   "source": [
    "car1"
   ]
  },
  {
   "cell_type": "code",
   "execution_count": 7,
   "id": "ffa6fe5d",
   "metadata": {},
   "outputs": [
    {
     "data": {
      "text/plain": [
       "'magwheel'"
      ]
     },
     "execution_count": 7,
     "metadata": {},
     "output_type": "execute_result"
    }
   ],
   "source": [
    "car1.wheels"
   ]
  },
  {
   "cell_type": "code",
   "execution_count": 9,
   "id": "c5ad79d0",
   "metadata": {},
   "outputs": [
    {
     "data": {
      "text/plain": [
       "('this is', 'petrol', 'car')"
      ]
     },
     "execution_count": 9,
     "metadata": {},
     "output_type": "execute_result"
    }
   ],
   "source": [
    "car1.driving()"
   ]
  },
  {
   "cell_type": "code",
   "execution_count": 10,
   "id": "2827f00b",
   "metadata": {},
   "outputs": [
    {
     "data": {
      "text/plain": [
       "'petrol'"
      ]
     },
     "execution_count": 10,
     "metadata": {},
     "output_type": "execute_result"
    }
   ],
   "source": [
    "car1.engine_type"
   ]
  }
 ],
 "metadata": {
  "kernelspec": {
   "display_name": "Python 3 (ipykernel)",
   "language": "python",
   "name": "python3"
  },
  "language_info": {
   "codemirror_mode": {
    "name": "ipython",
    "version": 3
   },
   "file_extension": ".py",
   "mimetype": "text/x-python",
   "name": "python",
   "nbconvert_exporter": "python",
   "pygments_lexer": "ipython3",
   "version": "3.9.12"
  }
 },
 "nbformat": 4,
 "nbformat_minor": 5
}
