{
 "cells": [
  {
   "cell_type": "markdown",
   "id": "6a918f13",
   "metadata": {},
   "source": [
    "Sub-Topics\n",
    "\n",
    "1. Quick Sort\n",
    "2. Merge Sort\n",
    "3. Bucket Sort\n",
    "4. Recursion\n",
    "Session Details\n",
    "\n",
    "1. Quick Sort\n",
    "\n",
    "2. Merge Sort\n",
    "\n",
    "3. Bucket Sort"
   ]
  },
  {
   "cell_type": "code",
   "execution_count": null,
   "id": "5903c9ac",
   "metadata": {},
   "outputs": [],
   "source": [
    "Recursion : Calling itself"
   ]
  },
  {
   "cell_type": "code",
   "execution_count": 1,
   "id": "59832559",
   "metadata": {},
   "outputs": [],
   "source": [
    "def magic(x):\n",
    "    print(f'Inside magic with x = {x}')\n",
    "    if x <= 5:\n",
    "        return\n",
    "    else:\n",
    "        magic(x-1)"
   ]
  },
  {
   "cell_type": "code",
   "execution_count": 2,
   "id": "67880bdb",
   "metadata": {},
   "outputs": [
    {
     "name": "stdout",
     "output_type": "stream",
     "text": [
      "Inside magic with x = 7\n",
      "Inside magic with x = 6\n",
      "Inside magic with x = 5\n"
     ]
    }
   ],
   "source": [
    "magic(7)"
   ]
  },
  {
   "cell_type": "code",
   "execution_count": 3,
   "id": "4940ed25",
   "metadata": {},
   "outputs": [
    {
     "name": "stdout",
     "output_type": "stream",
     "text": [
      "Inside magic with x = 5\n"
     ]
    }
   ],
   "source": [
    "magic(5)"
   ]
  },
  {
   "cell_type": "code",
   "execution_count": 4,
   "id": "8e472957",
   "metadata": {},
   "outputs": [
    {
     "name": "stdout",
     "output_type": "stream",
     "text": [
      "Inside magic with x = 6\n",
      "Inside magic with x = 5\n"
     ]
    }
   ],
   "source": [
    "magic(6)"
   ]
  },
  {
   "cell_type": "code",
   "execution_count": null,
   "id": "ffa56faa",
   "metadata": {},
   "outputs": [],
   "source": []
  },
  {
   "cell_type": "code",
   "execution_count": 6,
   "id": "990644a8",
   "metadata": {},
   "outputs": [],
   "source": [
    "def factorial(x):\n",
    "    print(f'factorial of {x}')\n",
    "    \n",
    "    if x==0:\n",
    "        return 1\n",
    "    else:\n",
    "        return x*factorial(x-1)"
   ]
  },
  {
   "cell_type": "code",
   "execution_count": 7,
   "id": "d096966c",
   "metadata": {},
   "outputs": [
    {
     "name": "stdout",
     "output_type": "stream",
     "text": [
      "factorial of 0\n",
      "factorial of 0 is 1\n"
     ]
    }
   ],
   "source": [
    "y = 0\n",
    "answer = factorial(y)\n",
    "print(f'factorial of {y} is {answer}')"
   ]
  },
  {
   "cell_type": "markdown",
   "id": "e43ff8ec",
   "metadata": {},
   "source": [
    "## partitioning"
   ]
  },
  {
   "cell_type": "code",
   "execution_count": null,
   "id": "b7a27cb7",
   "metadata": {},
   "outputs": [],
   "source": [
    "Place an single element into the position where it should be present after the list is sorted."
   ]
  },
  {
   "cell_type": "code",
   "execution_count": 7,
   "id": "96a00088",
   "metadata": {},
   "outputs": [],
   "source": [
    "def partitioning(A, l, r):  # l and r is nothing but left and right\n",
    "    montu = A[l]\n",
    "    j=l\n",
    "    for i in range(l+1, r+1):\n",
    "        if montu > A[i]:\n",
    "            j+=1\n",
    "            A[j], A[i] = A[i], A[j]\n",
    "            \n",
    "    A[montu], A[j] = A[j], A[montu]\n",
    "    print(f'A now = {A}')\n",
    "    return j"
   ]
  },
  {
   "cell_type": "code",
   "execution_count": 9,
   "id": "746054ae",
   "metadata": {},
   "outputs": [],
   "source": [
    "def partitioning(A, l, r):\n",
    "    montu = A[l]\n",
    "    j = l\n",
    "    for i in range(l+1, r+1):\n",
    "        if montu > A[i]:\n",
    "            j+=1\n",
    "            A[j], A[i] = A[i], A[j]\n",
    "    A[l], A[j] = A[j], A[l]\n",
    "    print(f'A now = {A}')\n",
    "    return j"
   ]
  },
  {
   "cell_type": "code",
   "execution_count": 10,
   "id": "84f46852",
   "metadata": {},
   "outputs": [
    {
     "name": "stdout",
     "output_type": "stream",
     "text": [
      "A now = [1, 4, 2, 3, 4, 6, 9, 9, 7, 6, 8]\n",
      "5\n"
     ]
    }
   ],
   "source": [
    "A = [6,4,2,3,9,8,9,4,7,6,1]\n",
    "m = partitioning(A, 0, len(A)-1)\n",
    "print(m)"
   ]
  },
  {
   "cell_type": "markdown",
   "id": "0e55a4e9",
   "metadata": {},
   "source": [
    "## Quick Sort"
   ]
  },
  {
   "cell_type": "code",
   "execution_count": null,
   "id": "eaaef9be",
   "metadata": {},
   "outputs": [],
   "source": [
    "One of the best sorting method"
   ]
  },
  {
   "cell_type": "code",
   "execution_count": 11,
   "id": "a99976a4",
   "metadata": {},
   "outputs": [],
   "source": [
    "def quicksort(A, l, r):\n",
    "    if l >= r:\n",
    "        return\n",
    "    m = partitioning(A, l, r)\n",
    "    quicksort(A, l, m-1)\n",
    "    quicksort(A, m+1, r)"
   ]
  },
  {
   "cell_type": "code",
   "execution_count": 12,
   "id": "0c48fa99",
   "metadata": {},
   "outputs": [
    {
     "name": "stdout",
     "output_type": "stream",
     "text": [
      "A now = [1, 4, 2, 3, 4, 6, 9, 9, 7, 6, 8]\n",
      "A now = [1, 4, 2, 3, 4, 6, 9, 9, 7, 6, 8]\n",
      "A now = [1, 3, 2, 4, 4, 6, 9, 9, 7, 6, 8]\n",
      "A now = [1, 2, 3, 4, 4, 6, 9, 9, 7, 6, 8]\n",
      "A now = [1, 2, 3, 4, 4, 6, 8, 7, 6, 9, 9]\n",
      "A now = [1, 2, 3, 4, 4, 6, 6, 7, 8, 9, 9]\n",
      "A now = [1, 2, 3, 4, 4, 6, 6, 7, 8, 9, 9]\n",
      "\n",
      "Final A=[1, 2, 3, 4, 4, 6, 6, 7, 8, 9, 9]\n"
     ]
    }
   ],
   "source": [
    "A = [6,4,2,3,9,8,9,4,7,6,1]\n",
    "quicksort(A, 0, len(A)-1)\n",
    "print(f'\\nFinal A={A}')"
   ]
  },
  {
   "cell_type": "code",
   "execution_count": null,
   "id": "e391b88f",
   "metadata": {},
   "outputs": [],
   "source": []
  },
  {
   "cell_type": "code",
   "execution_count": null,
   "id": "b85fa34a",
   "metadata": {},
   "outputs": [],
   "source": [
    "HOMEWORK: UNDERSTAND QUICKSORT PROPERLY. REWATCH THE SESSION"
   ]
  }
 ],
 "metadata": {
  "kernelspec": {
   "display_name": "Python 3 (ipykernel)",
   "language": "python",
   "name": "python3"
  },
  "language_info": {
   "codemirror_mode": {
    "name": "ipython",
    "version": 3
   },
   "file_extension": ".py",
   "mimetype": "text/x-python",
   "name": "python",
   "nbconvert_exporter": "python",
   "pygments_lexer": "ipython3",
   "version": "3.9.12"
  }
 },
 "nbformat": 4,
 "nbformat_minor": 5
}
