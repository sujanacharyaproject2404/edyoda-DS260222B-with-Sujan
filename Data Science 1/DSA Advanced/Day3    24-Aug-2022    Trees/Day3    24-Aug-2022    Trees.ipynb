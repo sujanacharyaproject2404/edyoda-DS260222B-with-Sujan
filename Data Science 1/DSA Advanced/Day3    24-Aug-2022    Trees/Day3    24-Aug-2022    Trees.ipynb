{
 "cells": [
  {
   "cell_type": "markdown",
   "id": "54b1f7e4",
   "metadata": {},
   "source": [
    "Sub-Topics\n",
    "\n",
    "1. Introduction to Trees\n",
    "2. Terms Used in Trees lingo\n",
    "3. Concept of Height and Depth of Trees\n",
    "4. Binary Trees\n",
    "5. Implementation\n",
    "\n",
    "Session Details\n",
    "\n",
    "1. Introduction to Trees\n",
    "\n",
    "2. Terms Used in Trees lingo\n",
    "\n",
    "3. Concept of Height and Depth of Trees\n",
    "\n",
    "4. Binary Trees\n",
    "\n",
    "5. Binary Search Trees\n",
    "\n",
    "6. Implementation"
   ]
  },
  {
   "cell_type": "code",
   "execution_count": null,
   "id": "a4fac8e4",
   "metadata": {},
   "outputs": [],
   "source": [
    "Height of Node :\n",
    "                Number of edges in longest path from that node to any leaf"
   ]
  },
  {
   "cell_type": "code",
   "execution_count": null,
   "id": "058c1dab",
   "metadata": {},
   "outputs": [],
   "source": []
  },
  {
   "cell_type": "code",
   "execution_count": 19,
   "id": "4f25b667",
   "metadata": {},
   "outputs": [],
   "source": [
    "class Node:\n",
    "    def __init__ (self, data):\n",
    "        self.left = None\n",
    "        self.right = None\n",
    "        self.data = data\n",
    "        \n",
    "    def show(self):\n",
    "        return f'data={self.data}, left={self.left.data if self.left else None} , right={self.right.data if self.right else None}'"
   ]
  },
  {
   "cell_type": "code",
   "execution_count": 9,
   "id": "3e01800b",
   "metadata": {},
   "outputs": [],
   "source": [
    "Jaipur_node = Node(1)"
   ]
  },
  {
   "cell_type": "code",
   "execution_count": 10,
   "id": "b59e5696",
   "metadata": {},
   "outputs": [],
   "source": [
    "Bangalore_node = (2)"
   ]
  },
  {
   "cell_type": "code",
   "execution_count": 11,
   "id": "a15d30cb",
   "metadata": {},
   "outputs": [],
   "source": [
    "Delhi_node = (3)"
   ]
  },
  {
   "cell_type": "code",
   "execution_count": 12,
   "id": "b3a8772c",
   "metadata": {},
   "outputs": [
    {
     "name": "stdout",
     "output_type": "stream",
     "text": [
      "1\n"
     ]
    }
   ],
   "source": [
    "print(Jaipur_node.data)"
   ]
  },
  {
   "cell_type": "code",
   "execution_count": 14,
   "id": "f679b14b",
   "metadata": {},
   "outputs": [
    {
     "data": {
      "text/plain": [
       "'data=1, left=None, right=None'"
      ]
     },
     "execution_count": 14,
     "metadata": {},
     "output_type": "execute_result"
    }
   ],
   "source": [
    "Jaipur_node.show()"
   ]
  },
  {
   "cell_type": "code",
   "execution_count": 15,
   "id": "8ad19c51",
   "metadata": {},
   "outputs": [],
   "source": [
    "Jaipur_node.left = Bangalore_node"
   ]
  },
  {
   "cell_type": "code",
   "execution_count": 16,
   "id": "aef16b67",
   "metadata": {},
   "outputs": [],
   "source": [
    "Jaipur_node.right = Delhi_node"
   ]
  },
  {
   "cell_type": "code",
   "execution_count": 20,
   "id": "4eda20b5",
   "metadata": {},
   "outputs": [
    {
     "data": {
      "text/plain": [
       "'data=1, left=2, right=3'"
      ]
     },
     "execution_count": 20,
     "metadata": {},
     "output_type": "execute_result"
    }
   ],
   "source": [
    "Jaipur_node.show()"
   ]
  },
  {
   "cell_type": "code",
   "execution_count": null,
   "id": "8980efca",
   "metadata": {},
   "outputs": [],
   "source": []
  },
  {
   "cell_type": "markdown",
   "id": "adc8d273",
   "metadata": {},
   "source": [
    "### Binary Sub Tree"
   ]
  },
  {
   "cell_type": "code",
   "execution_count": null,
   "id": "16d4fb6b",
   "metadata": {},
   "outputs": [],
   "source": [
    "B.S.T is a tree which for each node:\n",
    "    1) Value of all the nodes in LEFT sub tree is LESSER/EQUAL\n",
    "    2) Value of all the nodes in RIGHT sub tree is GREATER"
   ]
  },
  {
   "cell_type": "code",
   "execution_count": null,
   "id": "85767003",
   "metadata": {},
   "outputs": [],
   "source": []
  },
  {
   "cell_type": "code",
   "execution_count": null,
   "id": "22ebe048",
   "metadata": {},
   "outputs": [],
   "source": [
    "Traversal in Binary Search Tree:\n",
    "    meaning:Reading all nodes 1 by 1.\n",
    "        \n",
    "        Types:\n",
    "            1) Breadth First\n",
    "            2) Depth First"
   ]
  },
  {
   "cell_type": "code",
   "execution_count": null,
   "id": "41c627de",
   "metadata": {},
   "outputs": [],
   "source": [
    "Since Queue is empty we can say we traverse the tree completely."
   ]
  },
  {
   "cell_type": "code",
   "execution_count": null,
   "id": "31a43180",
   "metadata": {},
   "outputs": [],
   "source": []
  },
  {
   "cell_type": "markdown",
   "id": "9f22f7d9",
   "metadata": {},
   "source": [
    "## BINARY SEARCH TREE"
   ]
  },
  {
   "cell_type": "code",
   "execution_count": 1,
   "id": "9bdb348f",
   "metadata": {},
   "outputs": [],
   "source": [
    "class Node:\n",
    "    def __init__(self, data):\n",
    "        self.left = None\n",
    "        self.right = None\n",
    "        self.data = data\n",
    "    def show(self):\n",
    "        return f'data={self.data}, left={self.left.data if self.left else None}, right={self.right.data if self.right else None}'"
   ]
  },
  {
   "cell_type": "code",
   "execution_count": null,
   "id": "7e6741cc",
   "metadata": {},
   "outputs": [],
   "source": [
    "def insert_in_bst(current_root, data):\n",
    "    # empty tree\n",
    "    if current_root is None:\n",
    "        return Node(data) # this is the time when there is no more\n",
    "    # further child available of current_root\n",
    "    \n",
    "    if data <= current_root.data:\n",
    "        current_root.left = insert_in_bst(current_root.left,data)\n",
    "    else:\n",
    "        current_root.right = insert_in_bst(current_root.right,data)\n",
    "    return current_root\n",
    "    "
   ]
  }
 ],
 "metadata": {
  "kernelspec": {
   "display_name": "Python 3 (ipykernel)",
   "language": "python",
   "name": "python3"
  },
  "language_info": {
   "codemirror_mode": {
    "name": "ipython",
    "version": 3
   },
   "file_extension": ".py",
   "mimetype": "text/x-python",
   "name": "python",
   "nbconvert_exporter": "python",
   "pygments_lexer": "ipython3",
   "version": "3.9.12"
  }
 },
 "nbformat": 4,
 "nbformat_minor": 5
}
