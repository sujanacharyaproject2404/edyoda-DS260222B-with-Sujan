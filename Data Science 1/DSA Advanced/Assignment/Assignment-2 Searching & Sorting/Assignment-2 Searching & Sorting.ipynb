{
 "cells": [
  {
   "cell_type": "code",
   "execution_count": null,
   "id": "c1bccebc",
   "metadata": {},
   "outputs": [],
   "source": [
    "1. Implement Binary Search"
   ]
  },
  {
   "cell_type": "code",
   "execution_count": 2,
   "id": "0785f17b",
   "metadata": {},
   "outputs": [
    {
     "name": "stdout",
     "output_type": "stream",
     "text": [
      "The given array is [1, 2, 3, 4, 5, 6, 7]\n",
      "Element to be found is  4\n",
      "The Index of the element is 3\n"
     ]
    }
   ],
   "source": [
    "def binary_search(arr, a, low, high):\n",
    "\n",
    "    # Repeat until low and high meet each other\n",
    "    while low <= high:\n",
    "\n",
    "        mid = low + (high - low)//2\n",
    "\n",
    "        if arr[mid] == a:\n",
    "            return mid\n",
    "\n",
    "        elif array[mid] < a:\n",
    "            low = mid + 1\n",
    "\n",
    "        else:\n",
    "            high = mid - 1\n",
    "\n",
    "    return -1\n",
    "\n",
    "arr = [1, 2, 3, 4, 5, 6, 7]\n",
    "a = 4\n",
    "#printing the array\n",
    "print(\"The given array is\", arr)\n",
    "\n",
    "#printing element to be found\n",
    "print(\"Element to be found is \", a)\n",
    "\n",
    "index = binary_search(arr, a, 0, len(arr)-1)\n",
    "\n",
    "if index != -1:\n",
    "    print(\"The Index of the element is \" + str(index))\n",
    "else:\n",
    "    print(\"Element Not found\")"
   ]
  },
  {
   "cell_type": "code",
   "execution_count": null,
   "id": "d13f9bbe",
   "metadata": {},
   "outputs": [],
   "source": []
  },
  {
   "cell_type": "code",
   "execution_count": null,
   "id": "834b88b1",
   "metadata": {},
   "outputs": [],
   "source": [
    "2. Implement Merge Sort"
   ]
  },
  {
   "cell_type": "code",
   "execution_count": 10,
   "id": "586aa4de",
   "metadata": {},
   "outputs": [
    {
     "name": "stdout",
     "output_type": "stream",
     "text": [
      "Given array is: \n",
      "[5, 6, 7, 11, 12, 13]\n",
      " \n",
      "Sorted array is: \n",
      "5 6 7 11 12 13 \n"
     ]
    }
   ],
   "source": [
    "def mergeSort(arr):\n",
    "\n",
    "    if len(arr) > 1:\n",
    "\n",
    "        a = len(arr)//2\n",
    "\n",
    "        l = arr[:a]\n",
    "\n",
    "        r = arr[a:]\n",
    "\n",
    "        # Sort the two halves\n",
    "\n",
    "        mergeSort(l)\n",
    "\n",
    "        mergeSort(r) \n",
    "\n",
    "        b = c = d = 0\n",
    "\n",
    "        while b < len(l) and c < len(r):\n",
    "\n",
    "            if l[b] < r[c]:\n",
    "\n",
    "                arr[d] = l[b]\n",
    "\n",
    "                b += 1\n",
    "\n",
    "            else:\n",
    "\n",
    "                arr[d] = r[c]\n",
    "\n",
    "                c += 1\n",
    "\n",
    "            d += 1\n",
    "\n",
    "        while b < len(l):\n",
    "\n",
    "            arr[d] = l[b]\n",
    "\n",
    "            b += 1\n",
    "\n",
    "            d += 1\n",
    "\n",
    "        while c < len(r):\n",
    "\n",
    "            arr[d] = r[c]\n",
    "\n",
    "            c += 1\n",
    "\n",
    "            d += 1\n",
    "\n",
    "\n",
    "def printList(arr):\n",
    "\n",
    "    for i in range(len(arr)):\n",
    "\n",
    "        print(arr[i], end=\" \")\n",
    "\n",
    "    print()\n",
    " \n",
    "\n",
    "\n",
    "\n",
    "arr = [12, 11, 13, 5, 6, 7]\n",
    "\n",
    "mergeSort(arr) \n",
    "\n",
    "print('Given array is: ',)\n",
    "print(arr)\n",
    "print(' ')\n",
    "print(\"Sorted array is: \")\n",
    "\n",
    "printList(arr)"
   ]
  },
  {
   "cell_type": "code",
   "execution_count": null,
   "id": "5f571824",
   "metadata": {},
   "outputs": [],
   "source": []
  },
  {
   "cell_type": "code",
   "execution_count": null,
   "id": "5dfb5240",
   "metadata": {},
   "outputs": [],
   "source": [
    "3. Implement Quick Sort"
   ]
  },
  {
   "cell_type": "code",
   "execution_count": 11,
   "id": "f04a1660",
   "metadata": {},
   "outputs": [
    {
     "name": "stdout",
     "output_type": "stream",
     "text": [
      "Sorted array is:\n",
      "2 3 4 5 5 6 7 8 "
     ]
    }
   ],
   "source": [
    "def partition(arr,low,high):\n",
    "   i = ( low-1 )\n",
    "   pivot = arr[high] # pivot element\n",
    "   for j in range(low , high):\n",
    "      # If current element is smaller\n",
    "      if arr[j] <= pivot:\n",
    "         # increment\n",
    "         i = i+1\n",
    "         arr[i],arr[j] = arr[j],arr[i]\n",
    "   arr[i+1],arr[high] = arr[high],arr[i+1]\n",
    "   return ( i+1 )\n",
    "# sort\n",
    "def quickSort(arr,low,high):\n",
    "   if low < high:\n",
    "      # index\n",
    "      pi = partition(arr,low,high)\n",
    "      # sort the partitions\n",
    "      quickSort(arr, low, pi-1)\n",
    "      quickSort(arr, pi+1, high)\n",
    "\n",
    "        \n",
    "        \n",
    "arr = [2,5,3,8,6,5,4,7]\n",
    "n = len(arr)\n",
    "quickSort(arr,0,n-1)\n",
    "print (\"Sorted array is:\")\n",
    "for i in range(n):\n",
    "   print (arr[i],end=\" \")"
   ]
  },
  {
   "cell_type": "code",
   "execution_count": null,
   "id": "1781676d",
   "metadata": {},
   "outputs": [],
   "source": []
  },
  {
   "cell_type": "code",
   "execution_count": null,
   "id": "38064153",
   "metadata": {},
   "outputs": [],
   "source": [
    "4. Implement Insertion Sort"
   ]
  },
  {
   "cell_type": "code",
   "execution_count": 12,
   "id": "9bf840e8",
   "metadata": {},
   "outputs": [
    {
     "name": "stdout",
     "output_type": "stream",
     "text": [
      "Original array: [5, 2, 12, 12, 1]\n",
      "Sorted array: [1, 2, 5, 12, 12]\n"
     ]
    }
   ],
   "source": [
    "def insertion_sort(arr):\n",
    "    for i in range(1, len(arr)):\n",
    "        # Set key:\n",
    "        key = arr[i]\n",
    "\n",
    "        j = i - 1\n",
    "        while j >= 0 and arr[j] > key:\n",
    "            # Swap:\n",
    "            arr[j + 1] = arr[j]\n",
    "            arr[j] = key\n",
    "            \n",
    "            # Decrement 'j':\n",
    "            j -= 1\n",
    "\n",
    "    return arr\n",
    "\n",
    "\n",
    "array = [5, 2, 12, 12, 1]\n",
    "print(\"Original array: %s\" % array)\n",
    "print(\"Sorted array: %s\" % insertion_sort(array))"
   ]
  },
  {
   "cell_type": "code",
   "execution_count": null,
   "id": "1ef016db",
   "metadata": {},
   "outputs": [],
   "source": []
  },
  {
   "cell_type": "code",
   "execution_count": null,
   "id": "c63b003f",
   "metadata": {},
   "outputs": [],
   "source": [
    "5. Write a program to sort list of strings (similar to that of dictionary)"
   ]
  },
  {
   "cell_type": "code",
   "execution_count": 13,
   "id": "f3b66754",
   "metadata": {},
   "outputs": [
    {
     "name": "stdout",
     "output_type": "stream",
     "text": [
      "['apple', 'banana', 'car', 'dog', 'fan']\n"
     ]
    }
   ],
   "source": [
    "words = [\"car\", \"apple\", \"banana\", \"fan\", \"dog\"]\n",
    " \n",
    "#sort list in ascending order\n",
    "words.sort()\n",
    " \n",
    "print(words)"
   ]
  },
  {
   "cell_type": "code",
   "execution_count": 16,
   "id": "92275fdc",
   "metadata": {},
   "outputs": [],
   "source": [
    "\n",
    " "
   ]
  },
  {
   "cell_type": "code",
   "execution_count": null,
   "id": "8995b171",
   "metadata": {},
   "outputs": [],
   "source": []
  }
 ],
 "metadata": {
  "kernelspec": {
   "display_name": "Python 3 (ipykernel)",
   "language": "python",
   "name": "python3"
  },
  "language_info": {
   "codemirror_mode": {
    "name": "ipython",
    "version": 3
   },
   "file_extension": ".py",
   "mimetype": "text/x-python",
   "name": "python",
   "nbconvert_exporter": "python",
   "pygments_lexer": "ipython3",
   "version": "3.9.12"
  }
 },
 "nbformat": 4,
 "nbformat_minor": 5
}
