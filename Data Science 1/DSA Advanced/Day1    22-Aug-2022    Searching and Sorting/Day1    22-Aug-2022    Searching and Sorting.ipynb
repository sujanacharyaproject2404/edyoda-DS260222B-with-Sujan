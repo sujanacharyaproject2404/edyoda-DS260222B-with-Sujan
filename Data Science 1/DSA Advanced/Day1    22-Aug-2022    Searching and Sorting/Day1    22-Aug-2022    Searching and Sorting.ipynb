{
 "cells": [
  {
   "cell_type": "markdown",
   "id": "d9375763",
   "metadata": {},
   "source": [
    "Sub-Topics\n",
    "\n",
    "1. Linear Search\n",
    "2. Binary Search\n",
    "3. Bubble Sort\n",
    "4. Insertion Sort\n",
    "5. Selection Sort\n",
    "\n",
    "Session Details\n",
    "\n",
    "1. Linear Search\n",
    "\n",
    "2. Binary Search"
   ]
  },
  {
   "cell_type": "markdown",
   "id": "b2f97789",
   "metadata": {},
   "source": [
    "1. What is Algorithm?. \n",
    "Ans. Step by step instruction to solve a problem."
   ]
  },
  {
   "cell_type": "code",
   "execution_count": null,
   "id": "3286292a",
   "metadata": {},
   "outputs": [],
   "source": [
    "What is data structure?.\n",
    "Ans: It will store and retrieve data."
   ]
  },
  {
   "cell_type": "code",
   "execution_count": null,
   "id": "2ec2fac0",
   "metadata": {},
   "outputs": [],
   "source": [
    "Why do we study Algorithm?.\n",
    "Ans: * To find the faster solution.\n",
    "     * To Solve future problems which are similar to this algorithm or may be use this algorithm."
   ]
  },
  {
   "cell_type": "code",
   "execution_count": 5,
   "id": "932969d2",
   "metadata": {},
   "outputs": [],
   "source": [
    "l= [12,14,1,6,18,15]\n",
    "l_sort = l.sort()"
   ]
  },
  {
   "cell_type": "code",
   "execution_count": null,
   "id": "cb5b26fd",
   "metadata": {},
   "outputs": [],
   "source": []
  },
  {
   "cell_type": "markdown",
   "id": "41f61bcf",
   "metadata": {},
   "source": [
    "## Linear Search"
   ]
  },
  {
   "cell_type": "code",
   "execution_count": 4,
   "id": "2b0e8fb6",
   "metadata": {},
   "outputs": [
    {
     "name": "stdout",
     "output_type": "stream",
     "text": [
      "hey I found 50 and at index position 9\n"
     ]
    }
   ],
   "source": [
    "l = [12, 30, -20, 34, 56, 900, 22, 26, 2, 50]\n",
    "\n",
    "key = 50\n",
    "index=0\n",
    "for number in l:\n",
    "    if key==number:\n",
    "        print(f'hey I found {key} and at index position {index}')\n",
    "    index+=1\n",
    "    \n",
    "# Time Complexity: O(n) time because it will in worst case travel through \n",
    "#     the full list of size n."
   ]
  },
  {
   "cell_type": "code",
   "execution_count": null,
   "id": "989bb91a",
   "metadata": {},
   "outputs": [],
   "source": []
  },
  {
   "cell_type": "markdown",
   "id": "2d059ab7",
   "metadata": {},
   "source": [
    "## Binary Search"
   ]
  },
  {
   "cell_type": "code",
   "execution_count": 16,
   "id": "05149e0f",
   "metadata": {},
   "outputs": [
    {
     "name": "stdout",
     "output_type": "stream",
     "text": [
      "look at the left handside of mid value:30 which is = [-20, 2, 12, 22] \n"
     ]
    }
   ],
   "source": [
    "l = [12, 30, -20, 34, 56, 900, 22, 26, 2, 50]\n",
    "\n",
    "key = 12\n",
    "\n",
    "l.sort()\n",
    "mid =len(l)//2\n",
    "\n",
    "if key==l[mid]:\n",
    "    print(f'Hey we have found middle element {key} at index {mid}')\n",
    "\n",
    "elif key>l[mid]:\n",
    "    print(f'look at the right handside of mid value:{l[mid]} which is = {l[mid+1:]} ')\n",
    "    \n",
    "else key<l[mid]:\n",
    "    print(f'look at the left handside of mid value:{l[mid]} which is = {l[:mid-1]} ')"
   ]
  },
  {
   "cell_type": "code",
   "execution_count": null,
   "id": "170a0706",
   "metadata": {},
   "outputs": [],
   "source": []
  },
  {
   "cell_type": "code",
   "execution_count": 17,
   "id": "5f5fc2f3",
   "metadata": {},
   "outputs": [
    {
     "data": {
      "text/plain": [
       "2"
      ]
     },
     "execution_count": 17,
     "metadata": {},
     "output_type": "execute_result"
    }
   ],
   "source": [
    "5//2"
   ]
  },
  {
   "cell_type": "code",
   "execution_count": 18,
   "id": "2f744d19",
   "metadata": {},
   "outputs": [
    {
     "data": {
      "text/plain": [
       "2"
      ]
     },
     "execution_count": 18,
     "metadata": {},
     "output_type": "execute_result"
    }
   ],
   "source": [
    "4//2"
   ]
  },
  {
   "cell_type": "code",
   "execution_count": 26,
   "id": "f94bbb28",
   "metadata": {},
   "outputs": [],
   "source": [
    "def binary_search(l, key):\n",
    "    n = len(l)\n",
    "    mid = n//2\n",
    "    if l[mid] == key:\n",
    "        print(f'found it in list {l}')\n",
    "    elif key > l[mid]:\n",
    "        print(f'look at the right handside of {l[mid]} in array {l}')\n",
    "        binary_search(l[mid+1:],key)\n",
    "    else:\n",
    "        print(f'look at the left handside of {l[mid]} in array {l}')\n",
    "        binary_search(l[:mid],key)"
   ]
  },
  {
   "cell_type": "code",
   "execution_count": 27,
   "id": "fdc57643",
   "metadata": {},
   "outputs": [
    {
     "name": "stdout",
     "output_type": "stream",
     "text": [
      "initial list [-20, 2, 12, 22, 26, 30, 34, 50, 56, 900]\n",
      "look at the left handside of 30 in array [-20, 2, 12, 22, 26, 30, 34, 50, 56, 900]\n",
      "found it in list [-20, 2, 12, 22, 26]\n"
     ]
    }
   ],
   "source": [
    "l = [12, 30, -20, 34, 56, 900, 22, 26, 2, 50]\n",
    "l.sort()\n",
    "print(f'initial list {l}')\n",
    "key = 12\n",
    "binary_search(l, key)"
   ]
  },
  {
   "cell_type": "code",
   "execution_count": null,
   "id": "e28fa5ef",
   "metadata": {},
   "outputs": [],
   "source": []
  },
  {
   "cell_type": "code",
   "execution_count": null,
   "id": "e958e1a5",
   "metadata": {},
   "outputs": [],
   "source": [
    "# HOMEWORK: Use left, right index positions to find out the index position\n",
    "# of the key in the sorted array in binary search."
   ]
  },
  {
   "cell_type": "code",
   "execution_count": null,
   "id": "7718561a",
   "metadata": {},
   "outputs": [],
   "source": []
  },
  {
   "cell_type": "markdown",
   "id": "9a335083",
   "metadata": {},
   "source": [
    "## SORTING"
   ]
  },
  {
   "cell_type": "code",
   "execution_count": null,
   "id": "ebdc64a2",
   "metadata": {},
   "outputs": [],
   "source": [
    "Arranging anything in a order, like arranging numbers from \n",
    "smaller to bigger."
   ]
  },
  {
   "cell_type": "code",
   "execution_count": 48,
   "id": "030140dd",
   "metadata": {},
   "outputs": [
    {
     "name": "stdout",
     "output_type": "stream",
     "text": [
      "[27, 33, 34, 50, 69, 78, 90]\n"
     ]
    }
   ],
   "source": [
    "l = [34, 90, 27, 69, 33, 78, 50]\n",
    "print(sorted(l))"
   ]
  },
  {
   "cell_type": "code",
   "execution_count": null,
   "id": "6ad1d8d3",
   "metadata": {},
   "outputs": [],
   "source": []
  },
  {
   "cell_type": "code",
   "execution_count": null,
   "id": "ca9df2c0",
   "metadata": {},
   "outputs": [],
   "source": [
    "\n",
    "# To make our understanding of algorithms better, we will be solving\n",
    "# this classic problem with minimal things."
   ]
  },
  {
   "cell_type": "markdown",
   "id": "f36c0c13",
   "metadata": {},
   "source": [
    "## Bubble sort"
   ]
  },
  {
   "cell_type": "code",
   "execution_count": 52,
   "id": "b91d5a69",
   "metadata": {},
   "outputs": [
    {
     "name": "stdout",
     "output_type": "stream",
     "text": [
      "[34, 27, 69, 33, 78, 50, 2, -19, 30, -22, 90]\n",
      "[27, 34, 33, 69, 50, 2, -19, 30, -22, 78, 90]\n",
      "[27, 33, 34, 50, 2, -19, 30, -22, 69, 78, 90]\n",
      "[27, 33, 34, 2, -19, 30, -22, 50, 69, 78, 90]\n",
      "[27, 33, 2, -19, 30, -22, 34, 50, 69, 78, 90]\n",
      "[27, 2, -19, 30, -22, 33, 34, 50, 69, 78, 90]\n",
      "[2, -19, 27, -22, 30, 33, 34, 50, 69, 78, 90]\n",
      "[-19, 2, -22, 27, 30, 33, 34, 50, 69, 78, 90]\n",
      "[-19, -22, 2, 27, 30, 33, 34, 50, 69, 78, 90]\n",
      "[-22, -19, 2, 27, 30, 33, 34, 50, 69, 78, 90]\n"
     ]
    }
   ],
   "source": [
    "l = [34, 90, 27, 69, 33, 78, 50, 2, -19, 30, -22]\n",
    "\n",
    "rightmost_index = len(l)-1\n",
    "\n",
    "while(rightmost_index >0):\n",
    "    for moving_index in range(0,rightmost_index):\n",
    "        if l[moving_index]>l[moving_index+1]:\n",
    "           l[moving_index],l[moving_index+1] = l[moving_index+1], l[moving_index]\n",
    "    rightmost_index-=1\n",
    "    print(l)\n",
    "    "
   ]
  },
  {
   "cell_type": "code",
   "execution_count": null,
   "id": "15571038",
   "metadata": {},
   "outputs": [],
   "source": []
  }
 ],
 "metadata": {
  "kernelspec": {
   "display_name": "Python 3 (ipykernel)",
   "language": "python",
   "name": "python3"
  },
  "language_info": {
   "codemirror_mode": {
    "name": "ipython",
    "version": 3
   },
   "file_extension": ".py",
   "mimetype": "text/x-python",
   "name": "python",
   "nbconvert_exporter": "python",
   "pygments_lexer": "ipython3",
   "version": "3.9.12"
  }
 },
 "nbformat": 4,
 "nbformat_minor": 5
}
