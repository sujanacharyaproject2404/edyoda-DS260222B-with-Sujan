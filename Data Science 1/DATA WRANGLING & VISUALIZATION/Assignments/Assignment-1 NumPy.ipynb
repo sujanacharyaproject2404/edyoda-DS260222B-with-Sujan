{
 "cells": [
  {
   "cell_type": "code",
   "execution_count": null,
   "id": "0f215077",
   "metadata": {},
   "outputs": [],
   "source": [
    "1. Create a null vector of size 10 but the fifth value which is 1."
   ]
  },
  {
   "cell_type": "code",
   "execution_count": 4,
   "id": "512719fa",
   "metadata": {},
   "outputs": [
    {
     "name": "stdout",
     "output_type": "stream",
     "text": [
      "[0. 0. 0. 0. 1. 0. 0. 0. 0. 0.]\n"
     ]
    }
   ],
   "source": [
    "import numpy as np\n",
    "null_vector = np.zeros(10)\n",
    "null_vector[4]=1\n",
    "print(null_vector)"
   ]
  },
  {
   "cell_type": "code",
   "execution_count": null,
   "id": "3442bd3e",
   "metadata": {},
   "outputs": [],
   "source": []
  },
  {
   "cell_type": "code",
   "execution_count": null,
   "id": "0f6285be",
   "metadata": {},
   "outputs": [],
   "source": [
    "2. Create a vector with values ranging from 10 to 49."
   ]
  },
  {
   "cell_type": "code",
   "execution_count": 9,
   "id": "fac64a04",
   "metadata": {},
   "outputs": [
    {
     "name": "stdout",
     "output_type": "stream",
     "text": [
      "[10 11 12 13 14 15 16 17 18 19 20 21 22 23 24 25 26 27 28 29 30 31 32 33\n",
      " 34 35 36 37 38 39 40 41 42 43 44 45 46 47 48 49]\n"
     ]
    }
   ],
   "source": [
    "Vector_range= np.arange(10,50)\n",
    "print(Vector_range)"
   ]
  },
  {
   "cell_type": "code",
   "execution_count": null,
   "id": "01eb2742",
   "metadata": {},
   "outputs": [],
   "source": []
  },
  {
   "cell_type": "code",
   "execution_count": null,
   "id": "ce7e7021",
   "metadata": {},
   "outputs": [],
   "source": [
    "3. Create a 3x3 matrix with values ranging from 0 to 8"
   ]
  },
  {
   "cell_type": "code",
   "execution_count": 21,
   "id": "cd12279b",
   "metadata": {},
   "outputs": [
    {
     "data": {
      "text/plain": [
       "array([[0, 1, 2],\n",
       "       [3, 4, 5],\n",
       "       [6, 7, 8]])"
      ]
     },
     "execution_count": 21,
     "metadata": {},
     "output_type": "execute_result"
    }
   ],
   "source": [
    "matrix_1 = np.arange(9).reshape(3,3)\n",
    "matrix_1"
   ]
  },
  {
   "cell_type": "code",
   "execution_count": null,
   "id": "e5bccf38",
   "metadata": {},
   "outputs": [],
   "source": []
  },
  {
   "cell_type": "code",
   "execution_count": null,
   "id": "aa80ec7e",
   "metadata": {},
   "outputs": [],
   "source": [
    "4. Find indices of non-zero elements from [1,2,0,0,4,0]"
   ]
  },
  {
   "cell_type": "code",
   "execution_count": 30,
   "id": "1819e7be",
   "metadata": {},
   "outputs": [
    {
     "name": "stdout",
     "output_type": "stream",
     "text": [
      "Original array:\n",
      "[1 2 0 0 4 0]\n",
      "Indices of non-zero elements:\n",
      "[0 1 4]\n"
     ]
    }
   ],
   "source": [
    "import numpy as np\n",
    "elements = np.array([1,2,0,0,4,0])\n",
    "print(\"Original array:\")\n",
    "print(elements)\n",
    "print(\"Indices of non-zero elements:\")\n",
    "result = np.where(elements != 0)[0]\n",
    "print(result)"
   ]
  },
  {
   "cell_type": "code",
   "execution_count": null,
   "id": "cb9b1929",
   "metadata": {},
   "outputs": [],
   "source": []
  },
  {
   "cell_type": "code",
   "execution_count": null,
   "id": "3c82d648",
   "metadata": {},
   "outputs": [],
   "source": [
    "5. Create a 10x10 array with random values and find the minimum and maximum values."
   ]
  },
  {
   "cell_type": "code",
   "execution_count": 40,
   "id": "ee70f618",
   "metadata": {},
   "outputs": [
    {
     "name": "stdout",
     "output_type": "stream",
     "text": [
      "Original Array:\n",
      "[[0.84787029 0.81044258 0.83923347 0.17832891 0.81622242 0.41528982\n",
      "  0.50582048 0.55665781 0.35775338 0.93755751]\n",
      " [0.05904169 0.01552657 0.37196659 0.46104478 0.53913402 0.37785312\n",
      "  0.71645265 0.64148774 0.80306071 0.65189009]\n",
      " [0.00283267 0.28808874 0.50844235 0.79319006 0.42102728 0.16940797\n",
      "  0.1535553  0.87051001 0.76441676 0.86758285]\n",
      " [0.0581878  0.6140362  0.82607114 0.13179912 0.31142393 0.07007146\n",
      "  0.2006409  0.25029395 0.97356854 0.51130649]\n",
      " [0.07825512 0.55776971 0.30572562 0.29181184 0.2658628  0.92121375\n",
      "  0.7374851  0.64782368 0.39837032 0.74975339]\n",
      " [0.62137271 0.97790783 0.39300231 0.53492806 0.59629836 0.14140361\n",
      "  0.66797257 0.83671047 0.78287164 0.30853251]\n",
      " [0.14252443 0.72020983 0.61423613 0.90449091 0.52828273 0.4833714\n",
      "  0.75233861 0.69753071 0.90046414 0.6955611 ]\n",
      " [0.65274361 0.12143877 0.004611   0.29570908 0.10816003 0.95235773\n",
      "  0.41748582 0.48065469 0.95592107 0.49501684]\n",
      " [0.0827935  0.71629485 0.00575388 0.9889744  0.19869192 0.84998365\n",
      "  0.43142034 0.42697642 0.07868572 0.7857692 ]\n",
      " [0.38328959 0.63846856 0.4956223  0.53433939 0.95157871 0.65026239\n",
      "  0.06070924 0.08137777 0.57826265 0.85596085]]\n",
      " \n",
      "------------------------------Output------------------------------\n",
      " \n",
      "Minimum Values: 0.0019289056279675476\n",
      "Maximum Values: 0.9971945708614759\n"
     ]
    }
   ],
   "source": [
    "import numpy as np\n",
    "array1 = np.random.random((10,10))\n",
    "print(\"Original Array:\")\n",
    "print(x) \n",
    "array1_min, array1_max = array1.min(), array1.max()\n",
    "print(\" \")\n",
    "print(\"------------------------------Output------------------------------\")\n",
    "print(\" \")\n",
    "print(\"Minimum Values:\",array1_min)\n",
    "print(\"Maximum Values:\",array1_max)\n"
   ]
  },
  {
   "cell_type": "code",
   "execution_count": null,
   "id": "47e63dec",
   "metadata": {},
   "outputs": [],
   "source": []
  },
  {
   "cell_type": "code",
   "execution_count": null,
   "id": "4960901c",
   "metadata": {},
   "outputs": [],
   "source": [
    "6. Create a random vector of size 30 and find the mean value."
   ]
  },
  {
   "cell_type": "code",
   "execution_count": 47,
   "id": "7c39490c",
   "metadata": {},
   "outputs": [
    {
     "name": "stdout",
     "output_type": "stream",
     "text": [
      "Random Vector is : \n",
      " [0.34807221 0.43881587 0.13959047 0.79889534 0.32640029 0.88543503\n",
      " 0.68823445 0.74336258 0.40899461 0.60253685]\n",
      " \n",
      "Mean Value of the random vector is : 0.5380337712641536\n"
     ]
    }
   ],
   "source": [
    "Random_vector = np.random.random(10)\n",
    "print(\"Random Vector is : \\n\",Random_vector)\n",
    "print(\" \")\n",
    "Mean_value = Random_vector.mean()\n",
    "print (\"Mean Value of the random vector is :\",Mean_value)"
   ]
  },
  {
   "cell_type": "code",
   "execution_count": null,
   "id": "f1d802b1",
   "metadata": {},
   "outputs": [],
   "source": []
  }
 ],
 "metadata": {
  "kernelspec": {
   "display_name": "Python 3 (ipykernel)",
   "language": "python",
   "name": "python3"
  },
  "language_info": {
   "codemirror_mode": {
    "name": "ipython",
    "version": 3
   },
   "file_extension": ".py",
   "mimetype": "text/x-python",
   "name": "python",
   "nbconvert_exporter": "python",
   "pygments_lexer": "ipython3",
   "version": "3.10.2"
  }
 },
 "nbformat": 4,
 "nbformat_minor": 5
}
