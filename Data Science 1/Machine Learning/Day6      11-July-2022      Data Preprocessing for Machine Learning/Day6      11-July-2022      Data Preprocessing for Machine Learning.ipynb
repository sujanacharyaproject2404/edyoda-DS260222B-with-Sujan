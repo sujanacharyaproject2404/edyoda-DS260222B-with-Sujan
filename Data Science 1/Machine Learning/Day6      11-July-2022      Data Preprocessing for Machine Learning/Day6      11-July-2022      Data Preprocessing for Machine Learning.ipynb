{
 "cells": [
  {
   "cell_type": "markdown",
   "id": "646449d5",
   "metadata": {},
   "source": [
    "Sub-Topics\n",
    "\n",
    "1. Fundamentals of Data Preprocessing\n",
    "2. Why Pre processing is required\n",
    "3. Types of Pre-processing"
   ]
  },
  {
   "cell_type": "markdown",
   "id": "dfd57597",
   "metadata": {},
   "source": [
    "https://drive.google.com/drive/folders/1trLiW4ADTJR199ssRD7l8Zg7SuckzoDq"
   ]
  },
  {
   "cell_type": "markdown",
   "id": "cbf96bac",
   "metadata": {},
   "source": [
    "New Session with Ramesh\n",
    "11 July 2022, Monday, 08:10 PM"
   ]
  },
  {
   "cell_type": "code",
   "execution_count": null,
   "id": "c654488a",
   "metadata": {},
   "outputs": [],
   "source": []
  }
 ],
 "metadata": {
  "kernelspec": {
   "display_name": "Python 3 (ipykernel)",
   "language": "python",
   "name": "python3"
  },
  "language_info": {
   "codemirror_mode": {
    "name": "ipython",
    "version": 3
   },
   "file_extension": ".py",
   "mimetype": "text/x-python",
   "name": "python",
   "nbconvert_exporter": "python",
   "pygments_lexer": "ipython3",
   "version": "3.9.12"
  }
 },
 "nbformat": 4,
 "nbformat_minor": 5
}
