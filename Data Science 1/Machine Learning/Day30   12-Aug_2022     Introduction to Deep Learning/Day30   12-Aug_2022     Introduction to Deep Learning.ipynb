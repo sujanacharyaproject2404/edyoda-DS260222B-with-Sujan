{
 "cells": [
  {
   "cell_type": "markdown",
   "id": "5b1e9724",
   "metadata": {},
   "source": [
    "Sub-Topics\n",
    "\n",
    "1. Traditional ML Algorithm\n",
    "2. Introduction to Deep Learning\n",
    "3. Artificial Neural Network\n",
    "4. Activation Function, Hidden Layers\n",
    "\n",
    "Session Details\n",
    "\n",
    "Deep Learning"
   ]
  },
  {
   "cell_type": "code",
   "execution_count": null,
   "id": "464be4f1",
   "metadata": {},
   "outputs": [],
   "source": []
  }
 ],
 "metadata": {
  "kernelspec": {
   "display_name": "Python 3 (ipykernel)",
   "language": "python",
   "name": "python3"
  },
  "language_info": {
   "codemirror_mode": {
    "name": "ipython",
    "version": 3
   },
   "file_extension": ".py",
   "mimetype": "text/x-python",
   "name": "python",
   "nbconvert_exporter": "python",
   "pygments_lexer": "ipython3",
   "version": "3.9.12"
  }
 },
 "nbformat": 4,
 "nbformat_minor": 5
}
