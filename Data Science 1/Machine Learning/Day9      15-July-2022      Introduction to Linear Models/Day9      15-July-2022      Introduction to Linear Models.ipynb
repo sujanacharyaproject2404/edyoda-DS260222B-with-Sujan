{
 "cells": [
  {
   "cell_type": "markdown",
   "id": "30694a60",
   "metadata": {},
   "source": [
    "Sub-Topics\n",
    "\n",
    "1. Foundations of Linear Models\n",
    "2. Loss Function\n",
    "3. Why we Minimise Loss Function\n",
    "4. Simple Linear Regression using Python"
   ]
  },
  {
   "cell_type": "code",
   "execution_count": null,
   "id": "2ad6ef53",
   "metadata": {},
   "outputs": [],
   "source": []
  },
  {
   "cell_type": "code",
   "execution_count": null,
   "id": "ef88949e",
   "metadata": {},
   "outputs": [],
   "source": []
  },
  {
   "cell_type": "code",
   "execution_count": null,
   "id": "9e5bf6cf",
   "metadata": {},
   "outputs": [],
   "source": []
  },
  {
   "cell_type": "code",
   "execution_count": null,
   "id": "571ae550",
   "metadata": {},
   "outputs": [],
   "source": []
  }
 ],
 "metadata": {
  "kernelspec": {
   "display_name": "Python 3 (ipykernel)",
   "language": "python",
   "name": "python3"
  },
  "language_info": {
   "codemirror_mode": {
    "name": "ipython",
    "version": 3
   },
   "file_extension": ".py",
   "mimetype": "text/x-python",
   "name": "python",
   "nbconvert_exporter": "python",
   "pygments_lexer": "ipython3",
   "version": "3.9.12"
  }
 },
 "nbformat": 4,
 "nbformat_minor": 5
}
